{
 "cells": [
  {
   "cell_type": "code",
   "execution_count": 78,
   "id": "38efca87",
   "metadata": {},
   "outputs": [],
   "source": [
    "#...14 > 13\n",
    "#..? 그래프 탐색인데..?\n",
    "def lotto(p_set , index , string, input_list):\n",
    "    if len(list(string.split())) == 6 or index == len(input_list):\n",
    "        return None\n",
    "    index +=1\n",
    "    #print( index , string, input_list)\n",
    "    #자기를 포함하여 길이를 늘리는 경우 \n",
    "    #if index < len(input_list):\n",
    "    ns = string+\" \"+str(input_list[index-1])\n",
    "    if (ns not in p_set and len(list(ns.split())) == 6):\n",
    "        p_set.add(ns)\n",
    "    lotto(p_set , index , ns, input_list)\n",
    "    #자기를 포함하지 않는 경우\n",
    "    lotto(p_set , index , string, input_list)\n",
    "    \n",
    "# bfs 로 하면 순서대로 결과가 넣어질거 같지만 그냥 정렬해서 쓰겠다."
   ]
  },
  {
   "cell_type": "code",
   "execution_count": 79,
   "id": "2d0e42b5",
   "metadata": {
    "scrolled": true
   },
   "outputs": [
    {
     "name": "stdout",
     "output_type": "stream",
     "text": [
      "7 1 2 3 4 5 6 7\n",
      "8 1 2 3 5 8 13 21 34\n",
      "0\n",
      "1 2 3 4 5 6\n",
      "1 2 3 4 5 7\n",
      "1 2 3 4 6 7\n",
      "1 2 3 5 6 7\n",
      "1 2 4 5 6 7\n",
      "1 3 4 5 6 7\n",
      "2 3 4 5 6 7\n",
      "\n",
      "1 2 3 5 8 13\n",
      "1 2 3 5 8 21\n",
      "1 2 3 5 8 34\n",
      "1 2 3 5 13 21\n",
      "1 2 3 5 13 34\n",
      "1 2 3 5 21 34\n",
      "1 2 3 8 13 21\n",
      "1 2 3 8 13 34\n",
      "1 2 3 8 21 34\n",
      "1 2 3 13 21 34\n",
      "1 2 5 8 13 21\n",
      "1 2 5 8 13 34\n",
      "1 2 5 8 21 34\n",
      "1 2 5 13 21 34\n",
      "1 2 8 13 21 34\n",
      "1 3 5 8 13 21\n",
      "1 3 5 8 13 34\n",
      "1 3 5 8 21 34\n",
      "1 3 5 13 21 34\n",
      "1 3 8 13 21 34\n",
      "1 5 8 13 21 34\n",
      "2 3 5 8 13 21\n",
      "2 3 5 8 13 34\n",
      "2 3 5 8 21 34\n",
      "2 3 5 13 21 34\n",
      "2 3 8 13 21 34\n",
      "2 5 8 13 21 34\n",
      "3 5 8 13 21 34\n",
      "\n"
     ]
    }
   ],
   "source": [
    "input_list = list(input().split())\n",
    "p_set_list = list()\n",
    "\n",
    "while (input_list[0] != '0'):\n",
    "    p_set = set()\n",
    "    lotto(p_set , 1 , \"\", input_list)\n",
    "    p_set_list.append(p_set)\n",
    "    input_list = list(input().split())\n",
    "\n",
    "for se in p_set_list:\n",
    "    t_list = list(se)\n",
    "    temp = list()\n",
    "    for item in t_list:\n",
    "        temp.append(list(map(int, item.split())))\n",
    "    temp.sort()\n",
    "    for item in temp:\n",
    "        print(\"{} {} {} {} {} {}\".format(*item))\n",
    "    if se:\n",
    "        print()"
   ]
  },
  {
   "cell_type": "code",
   "execution_count": 60,
   "id": "62c8f4c1",
   "metadata": {},
   "outputs": [],
   "source": [
    "#..? 그래프 탐색인데..?\n",
    "def lotto(p_set , index , string, input_list):\n",
    "    if len(string) == 6 or index == len(input_list):\n",
    "        return None\n",
    "    index +=1\n",
    "    print( index , string, input_list)\n",
    "    #자기를 포함하지 않는 경우\n",
    "    lotto(p_set , index , string, input_list)\n",
    "    #자기를 포함하여 길이를 늘리는 경우 \n",
    "    ns = string+\" \"+str(input_list[index-1])\n",
    "    if (ns not in p_set and len(ns) == 6):\n",
    "        p_set.add(ns)\n",
    "    lotto(p_set , index , ns, input_list)"
   ]
  },
  {
   "cell_type": "code",
   "execution_count": null,
   "id": "611f38ca",
   "metadata": {},
   "outputs": [],
   "source": []
  }
 ],
 "metadata": {
  "kernelspec": {
   "display_name": "Python 3 (ipykernel)",
   "language": "python",
   "name": "python3"
  },
  "language_info": {
   "codemirror_mode": {
    "name": "ipython",
    "version": 3
   },
   "file_extension": ".py",
   "mimetype": "text/x-python",
   "name": "python",
   "nbconvert_exporter": "python",
   "pygments_lexer": "ipython3",
   "version": "3.9.12"
  }
 },
 "nbformat": 4,
 "nbformat_minor": 5
}

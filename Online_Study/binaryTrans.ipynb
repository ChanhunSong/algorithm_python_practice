{
 "cells": [
  {
   "cell_type": "code",
   "execution_count": 4,
   "id": "a2e5d308",
   "metadata": {},
   "outputs": [],
   "source": [
    "def dt(num):\n",
    "    res_num = \"\"\n",
    "    if num < 2:\n",
    "        return str(num)\n",
    "    else:\n",
    "        res_num = str(num%2)\n",
    "        add_num = dt(num//2)\n",
    "    return add_num + res_num "
   ]
  },
  {
   "cell_type": "code",
   "execution_count": 7,
   "id": "ffc84734",
   "metadata": {},
   "outputs": [
    {
     "name": "stdout",
     "output_type": "stream",
     "text": [
      "3\n",
      "11\n"
     ]
    }
   ],
   "source": [
    "x = int(input())\n",
    "print(dt(x))"
   ]
  },
  {
   "cell_type": "code",
   "execution_count": null,
   "id": "2b367b97",
   "metadata": {},
   "outputs": [],
   "source": []
  }
 ],
 "metadata": {
  "kernelspec": {
   "display_name": "Python 3 (ipykernel)",
   "language": "python",
   "name": "python3"
  },
  "language_info": {
   "codemirror_mode": {
    "name": "ipython",
    "version": 3
   },
   "file_extension": ".py",
   "mimetype": "text/x-python",
   "name": "python",
   "nbconvert_exporter": "python",
   "pygments_lexer": "ipython3",
   "version": "3.9.12"
  }
 },
 "nbformat": 4,
 "nbformat_minor": 5
}

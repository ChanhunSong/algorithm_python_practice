{
 "cells": [
  {
   "cell_type": "markdown",
   "metadata": {},
   "source": [
    "시작 03 \n",
    "\n",
    "20짜리를 넣을 수 있는 경우의 수를 모두 찾고 \n",
    "\n",
    "20짜리 개수*4해서 추가하면 된다.\n",
    "\n",
    "아마 재귀로 푸는 거 같은데... 이거는 다른 분 풀이를 봐야 겠다.\n",
    "\n",
    "라고 단순하게 하다가 생각이 팍 났는데 이거 10짜리가 이동만 해도 다른 경우의 수이다.\n",
    "\n",
    "그냥 곱하기로 하면 당연히 안되고 \n",
    "\n",
    "포함하냐 안햐나 문제 \n",
    "\n",
    "10막대 뒤집는 거는 곱하기로 해결하면 되지만 (20짜리가 섞일 수 없으므로)\n",
    "\n",
    "> 10과 20 막대 조합 > 이거를 재귀로 구하자\n",
    "\n",
    "> 20 막대 조합에 10 막대 조합 곱하기로 추가하지만 10 막대가 서있는 경우는 포함되어 있으니 2곱하기\n",
    "\n"
   ]
  },
  {
   "cell_type": "code",
   "execution_count": null,
   "metadata": {},
   "outputs": [],
   "source": [
    "T = int(input())\n",
    "\n",
    "def combi( s, l, n, memo_list):\n",
    "    if s*10+ l*20  == n:\n",
    "        memo_list.append(s,l)\n",
    "        return memo_list\n",
    "    combi( s+1, l, n, memo_list)\n",
    "    combi( s, l+1, n, memo_list)\n",
    "\n",
    "# 여러개의 테스트 케이스가 주어지므로, 각각을 처리합니다.\n",
    "for test_case in range(1, T + 1):\n",
    "    n = int(input())\n",
    "    memo_list = list()\n",
    "    memo_list = combi( 0, 0, n, res)\n",
    "    res = len(memo_list)\n",
    "    for comb in memo_list:\n",
    "        res += 2**comb[1]\n",
    "    print(\"#{} {}\".format(test_case , res))\n",
    "    "
   ]
  },
  {
   "cell_type": "code",
   "execution_count": null,
   "metadata": {},
   "outputs": [],
   "source": [
    "이유는 모르겠지만 sys가 막혀서 재귀를 늘릴 수가 없어서 강제로 \n",
    "반복문으로 고치게 생겼다."
   ]
  },
  {
   "cell_type": "code",
   "execution_count": null,
   "metadata": {},
   "outputs": [],
   "source": [
    "import sys\n",
    "\n",
    "sys.stdin = open(\"sample_input.txt\", \"r\")\n",
    "T = int(input())\n",
    "\n",
    "\n",
    "# 여러개의 테스트 케이스가 주어지므로, 각각을 처리합니다.\n",
    "for test_case in range(1, T + 1):\n",
    "    n = int(input())\n",
    "    memo_list = [(0,0)]\n",
    "    res_list = list()\n",
    "    while(memo_list):\n",
    "        cur = memo_list.pop()\n",
    "        if cur[0] * 10 + cur[1]*20  == n:\n",
    "            res_list.append(cur[0] , cur[1])\n",
    "        else:\n",
    "            memo_list.append((cur[0]+1, cur[1]))\n",
    "            memo_list.append((cur[0], cur[1]+1))\n",
    "    \n",
    "    res = len(res_list)\n",
    "    for comb in res_list:\n",
    "        res += 2**comb[1]\n",
    "    print(\"#{} {}\".format(test_case , res))"
   ]
  },
  {
   "cell_type": "code",
   "execution_count": null,
   "metadata": {},
   "outputs": [],
   "source": []
  }
 ],
 "metadata": {
  "kernelspec": {
   "display_name": "Python 3",
   "language": "python",
   "name": "python3"
  },
  "language_info": {
   "codemirror_mode": {
    "name": "ipython",
    "version": 3
   },
   "file_extension": ".py",
   "mimetype": "text/x-python",
   "name": "python",
   "nbconvert_exporter": "python",
   "pygments_lexer": "ipython3",
   "version": "3.7.1"
  }
 },
 "nbformat": 4,
 "nbformat_minor": 2
}

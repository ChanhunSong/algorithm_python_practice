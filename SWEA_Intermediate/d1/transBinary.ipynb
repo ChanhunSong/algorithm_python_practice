{
 "cells": [
  {
   "cell_type": "code",
   "execution_count": null,
   "id": "113c81f9",
   "metadata": {},
   "outputs": [],
   "source": [
    "import sys\n",
    "\n",
    "sys.stdin = open(\"sample_input.txt\", \"r\")\n",
    "\n",
    "T = int(input())\n",
    "\n",
    "h_dict = {\n",
    "    '0' : \"0000\", \n",
    "    '1' : \"0001\", \n",
    "    '2' : \"0010\", \n",
    "    '3' : \"0011\", \n",
    "    '4' : \"0100\",\n",
    "    '5' : \"0101\",\n",
    "    '6' : \"0110\",\n",
    "    '7' : \"0111\",\n",
    "    '8' : \"1000\",\n",
    "    '9' : \"1001\",\n",
    "    'A' : \"1010\",\n",
    "    'B' : \"1011\",\n",
    "    'C' : \"1100\",\n",
    "    'D' : \"1101\",\n",
    "    'E' : \"1110\",\n",
    "    'F' : \"1111\"\n",
    "\n",
    "}\n",
    "# 여러개의 테스트 케이스가 주어지므로, 각각을 처리합니다.\n",
    "for test_case in range(1, T + 1):\n",
    "    # ///////////////////////////////////////////////////////////////////////////////////\n",
    "    '''\n",
    "\n",
    "       1. 재귀로 구현해서 인풋을 디바이드 앤 퀀커로 해결 > 머지소트 처럼 > nlogn 이라 탈락\n",
    "       2. 각 자리수를 16진수로 바꿔서 각 자리마다 연산 > 변환하는 연산 O(1) * n\n",
    "       3. 딕셔너리로 16진수 표 만들어서 넣어놓고 각 자리마다 더하기 > 셋에서 가져오는 연산 O(1) * n\n",
    "       \n",
    "       시간복잡도 상으로는 2,3 이 같다. > 그래도 연산량이 줄어드는 3이 더 빠르긴 할거 같다.\n",
    "       \n",
    "       > 귀찮아서 하드코딩 했는데 이래도 되나...\n",
    "\n",
    "    '''\n",
    "    T_input = input()\n",
    "    res = \"\"\n",
    "    for item in T_input[2:]:\n",
    "        res += h_dict[item]\n",
    "    print(res)\n",
    "    # ///////////////////////////////////////////////////////////////////////////////////\n",
    "    "
   ]
  },
  {
   "cell_type": "code",
   "execution_count": null,
   "id": "095e019e",
   "metadata": {},
   "outputs": [],
   "source": []
  },
  {
   "cell_type": "code",
   "execution_count": null,
   "id": "8e9500d0",
   "metadata": {},
   "outputs": [],
   "source": []
  }
 ],
 "metadata": {
  "kernelspec": {
   "display_name": "Python 3 (ipykernel)",
   "language": "python",
   "name": "python3"
  },
  "language_info": {
   "codemirror_mode": {
    "name": "ipython",
    "version": 3
   },
   "file_extension": ".py",
   "mimetype": "text/x-python",
   "name": "python",
   "nbconvert_exporter": "python",
   "pygments_lexer": "ipython3",
   "version": "3.9.12"
  }
 },
 "nbformat": 4,
 "nbformat_minor": 5
}

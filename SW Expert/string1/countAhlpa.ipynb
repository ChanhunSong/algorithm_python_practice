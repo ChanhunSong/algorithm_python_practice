{
 "cells": [
  {
   "cell_type": "code",
   "execution_count": null,
   "id": "8a0ca076",
   "metadata": {},
   "outputs": [],
   "source": [
    "T = int(input())\n",
    "# 여러개의 테스트 케이스가 주어지므로, 각각을 처리합니다.\n",
    "for test_case in range(1, T + 1):\n",
    "    str1 = input()\n",
    "    str2 = input()\n",
    "    a_dict = dict()\n",
    "    for a in str1:\n",
    "        if a not in a_dict:\n",
    "            a_dict[a] = 0\n",
    "    \n",
    "    for a in str2:\n",
    "        if a in a_dict:\n",
    "            a_dict[a] +=1\n",
    "    res = 0 \n",
    "    for num in a_dict.values():\n",
    "        if res < num:\n",
    "            res = num\n",
    "    print(\"#{} {}\".format(test_case , res))"
   ]
  }
 ],
 "metadata": {
  "kernelspec": {
   "display_name": "Python 3 (ipykernel)",
   "language": "python",
   "name": "python3"
  },
  "language_info": {
   "codemirror_mode": {
    "name": "ipython",
    "version": 3
   },
   "file_extension": ".py",
   "mimetype": "text/x-python",
   "name": "python",
   "nbconvert_exporter": "python",
   "pygments_lexer": "ipython3",
   "version": "3.9.12"
  }
 },
 "nbformat": 4,
 "nbformat_minor": 5
}
